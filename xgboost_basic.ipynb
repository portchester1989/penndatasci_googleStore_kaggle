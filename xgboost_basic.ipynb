{
 "cells": [
  {
   "cell_type": "code",
   "execution_count": 1,
   "metadata": {},
   "outputs": [],
   "source": [
    "# load necessary libraries\n",
    "import numpy as np\n",
    "import pandas as pd\n",
    "import os\n",
    "import sys\n",
    "import collections\n",
    "\n",
    "import seaborn as sns\n",
    "import matplotlib.pyplot as plt\n",
    "%matplotlib inline\n",
    "\n",
    "import json\n",
    "from pandas.io.json import json_normalize\n",
    "\n",
    "import xgboost as xgb\n",
    "from sklearn.decomposition import PCA\n",
    "from sklearn.metrics import mean_squared_error\n",
    "from math import sqrt\n",
    "from sklearn.model_selection import train_test_split\n",
    "\n",
    "\n",
    "\n",
    "#use sys.executable to see which python we are using\n",
    "# to install packages do:\n",
    "#<path/to/python>/python -m pip install <package>\n",
    "\n",
    "\n",
    "# Install sklearn\n",
    "#!{sys.executable} -m pip install sklearn"
   ]
  },
  {
   "cell_type": "code",
   "execution_count": 2,
   "metadata": {},
   "outputs": [
    {
     "data": {
      "text/plain": [
       "'/Users/sklasfeld/anaconda3/envs/ipykernel_py3/bin/python'"
      ]
     },
     "execution_count": 2,
     "metadata": {},
     "output_type": "execute_result"
    }
   ],
   "source": [
    "sys.executable"
   ]
  },
  {
   "cell_type": "code",
   "execution_count": 140,
   "metadata": {},
   "outputs": [],
   "source": [
    "train_df = pd.read_csv('train_expanded.csv', low_memory=False, dtype={'fullVisitorId': 'str'}, index_col=0)\n",
    "test_df = pd.read_csv('test_expanded.csv', low_memory=False, dtype={'fullVisitorId': 'str'}, index_col=0)"
   ]
  },
  {
   "cell_type": "markdown",
   "metadata": {},
   "source": [
    "## Clean Data"
   ]
  },
  {
   "cell_type": "code",
   "execution_count": 69,
   "metadata": {},
   "outputs": [
    {
     "data": {
      "text/plain": [
       "['channelGrouping:8',\n",
       " 'date:366',\n",
       " 'fullVisitorId:714167',\n",
       " 'sessionId:902755',\n",
       " 'visitId:886303',\n",
       " 'visitNumber:384',\n",
       " 'visitStartTime:887159',\n",
       " 'device.browser:54',\n",
       " 'device.deviceCategory:3',\n",
       " 'device.isMobile:2',\n",
       " 'device.operatingSystem:20',\n",
       " 'geoNetwork.city:649',\n",
       " 'geoNetwork.continent:6',\n",
       " 'geoNetwork.country:222',\n",
       " 'geoNetwork.metro:94',\n",
       " 'geoNetwork.networkDomain:28064',\n",
       " 'geoNetwork.region:376',\n",
       " 'geoNetwork.subContinent:23',\n",
       " 'totals.bounces:2',\n",
       " 'totals.hits:274',\n",
       " 'totals.newVisits:2',\n",
       " 'totals.pageviews:214',\n",
       " 'totals.transactionRevenue:5333',\n",
       " 'trafficSource.adContent:45',\n",
       " 'trafficSource.adwordsClickInfo.adNetworkType:3',\n",
       " 'trafficSource.adwordsClickInfo.gclId:17775',\n",
       " 'trafficSource.adwordsClickInfo.isVideoAd:2',\n",
       " 'trafficSource.adwordsClickInfo.page:9',\n",
       " 'trafficSource.adwordsClickInfo.slot:3',\n",
       " 'trafficSource.campaign:10',\n",
       " 'trafficSource.isTrueDirect:2',\n",
       " 'trafficSource.keyword:3660',\n",
       " 'trafficSource.medium:7',\n",
       " 'trafficSource.referralPath:1476',\n",
       " 'trafficSource.source:380']"
      ]
     },
     "execution_count": 69,
     "metadata": {},
     "output_type": "execute_result"
    }
   ],
   "source": [
    "[c+\":\"+str(train_df[c].nunique(dropna=False)) for c in train_df.columns]"
   ]
  },
  {
   "cell_type": "markdown",
   "metadata": {},
   "source": [
    "### fill some NA columns "
   ]
  },
  {
   "cell_type": "code",
   "execution_count": 141,
   "metadata": {},
   "outputs": [],
   "source": [
    "# \"totals.transactionRevenue\" set to 0 if null\n",
    "train_df[\"totals.transactionRevenue\"].fillna(0, inplace=True)\n",
    "\n",
    "# \"totals.bounces\" set to 0 if null\n",
    "train_df[\"totals.bounces\"].fillna(0, inplace=True)\n",
    "test_df[\"totals.bounces\"].fillna(0, inplace=True)\n",
    "\n",
    "# \"totals.newVisits\" set to 0 if null\n",
    "train_df[\"totals.newVisits\"].fillna(0, inplace=True)\n",
    "test_df[\"totals.newVisits\"].fillna(0, inplace=True)"
   ]
  },
  {
   "cell_type": "markdown",
   "metadata": {},
   "source": [
    "### Remove Columns with constant values"
   ]
  },
  {
   "cell_type": "code",
   "execution_count": 144,
   "metadata": {},
   "outputs": [],
   "source": [
    "const_cols = [c for c in train_df.columns if train_df[c].nunique(dropna=False)==1 ]\n",
    "train_df = train_df.drop(const_cols, axis=1)\n",
    "test_df = test_df.drop(const_cols, axis=1)"
   ]
  },
  {
   "cell_type": "markdown",
   "metadata": {},
   "source": [
    "only one row has a `trafficSource.campaignCode` so we can delete that one too."
   ]
  },
  {
   "cell_type": "markdown",
   "metadata": {},
   "source": [
    "### Typecast columns"
   ]
  },
  {
   "cell_type": "markdown",
   "metadata": {},
   "source": [
    "type cast columns with numbers"
   ]
  },
  {
   "cell_type": "code",
   "execution_count": null,
   "metadata": {},
   "outputs": [],
   "source": [
    "# make sure that the numerical columns are float type\n",
    "num_cols = [\"totals.hits\", \"totals.pageviews\", \"visitNumber\", \"visitStartTime\", 'totals.bounces',  'totals.newVisits']    \n",
    "for col in num_cols:\n",
    "    train_df[col] = train_df[col].astype(float)\n",
    "    test_df[col] = test_df[col].astype(float)"
   ]
  },
  {
   "cell_type": "code",
   "execution_count": 156,
   "metadata": {},
   "outputs": [],
   "source": [
    "# make sure that these numerical columns are int type\n",
    "#num_cols = [\"sessionId\"]    \n",
    "#for col in num_cols:\n",
    "#    train_df[col] = train_df[col].astype(np.int64)\n",
    "#    test_df[col] = test_df[col].astype(np.int64)"
   ]
  },
  {
   "cell_type": "markdown",
   "metadata": {},
   "source": [
    "Typecast columns with strings into labels"
   ]
  },
  {
   "cell_type": "code",
   "execution_count": 152,
   "metadata": {},
   "outputs": [],
   "source": [
    "# convert categorical columns of strings into ints\n",
    "def labelCol(df, col):\n",
    "    labels=list(df[col].unique())\n",
    "    label_dict={}\n",
    "    for i in range(0,len(labels)):\n",
    "        label_dict[labels[i]]=i\n",
    "    return(df[col].apply(lambda x:label_dict[x]))"
   ]
  },
  {
   "cell_type": "code",
   "execution_count": 161,
   "metadata": {},
   "outputs": [
    {
     "name": "stdout",
     "output_type": "stream",
     "text": [
      "trafficSource.isTrueDirect\n",
      "trafficSource.keyword\n",
      "trafficSource.medium\n",
      "trafficSource.referralPath\n",
      "trafficSource.source\n"
     ]
    }
   ],
   "source": [
    "num_cols = [ x for x in train_df.columns if train_df[x].dtype == 'O']\n",
    "for col in num_cols:\n",
    "    if col != \"fullVisitorId\" and col in list(test_df.columns):\n",
    "        print(col)\n",
    "        train_df[col] = labelCol(train_df,col).astype(np.int64)\n",
    "        test_df[col] = labelCol(test_df,col).astype(np.int64)"
   ]
  },
  {
   "cell_type": "markdown",
   "metadata": {},
   "source": [
    "### Open up Date Column"
   ]
  },
  {
   "cell_type": "code",
   "execution_count": 163,
   "metadata": {},
   "outputs": [],
   "source": [
    "# \"visitStartTime\" column contains the same information as \"date\", so it can be replaced\n",
    "# i'll also generate features for the day of the week, hour, month and day of the month\n",
    "train_df['date'] = pd.to_datetime(train_df['visitStartTime'], unit='s')\n",
    "train_df['day_of_week'] = train_df['date'].dt.dayofweek\n",
    "train_df['hour'] = train_df['date'].dt.hour\n",
    "train_df['day_of_month'] = train_df['date'].dt.day\n",
    "train_df['month'] = train_df['date'].dt.month\n",
    "\n",
    "test_df['date'] = pd.to_datetime(test_df['visitStartTime'], unit='s')\n",
    "test_df['day_of_week'] = test_df['date'].dt.dayofweek\n",
    "test_df['hour'] = test_df['date'].dt.hour\n",
    "test_df['day_of_month'] = test_df['date'].dt.day\n",
    "test_df['month'] = test_df['date'].dt.month\n",
    "\n",
    "# delete the \"date\" feature\n",
    "train_df.drop('date', axis = 1, inplace = True)\n",
    "test_df.drop('date', axis = 1, inplace = True)"
   ]
  },
  {
   "cell_type": "markdown",
   "metadata": {},
   "source": [
    "## XGBoost"
   ]
  },
  {
   "cell_type": "markdown",
   "metadata": {},
   "source": [
    "look for column in the training data that is not in the testing data"
   ]
  },
  {
   "cell_type": "code",
   "execution_count": 164,
   "metadata": {},
   "outputs": [
    {
     "data": {
      "text/plain": [
       "['totals.transactionRevenue', 'trafficSource.campaignCode']"
      ]
     },
     "execution_count": 164,
     "metadata": {},
     "output_type": "execute_result"
    }
   ],
   "source": [
    "colsNotInTest=[x for x in list(train_df.columns) if x not in list(test_df.columns)]\n",
    "colsNotInTest"
   ]
  },
  {
   "cell_type": "markdown",
   "metadata": {},
   "source": [
    "split into training and testing data into x and y sets..."
   ]
  },
  {
   "cell_type": "code",
   "execution_count": 165,
   "metadata": {},
   "outputs": [],
   "source": [
    "# full training set\n",
    "x_train_full = train_df.drop([\"fullVisitorId\"]+colsNotInTest, axis = 1)\n",
    "id_train_full = train_df[\"fullVisitorId\"].values\n",
    "y_train_full = train_df[\"totals.transactionRevenue\"].values\n",
    "# full test set\n",
    "X_test = test_df.drop([\"fullVisitorId\"], axis = 1)\n",
    "id_test = test_df[\"fullVisitorId\"].values"
   ]
  },
  {
   "cell_type": "code",
   "execution_count": 166,
   "metadata": {},
   "outputs": [
    {
     "data": {
      "text/html": [
       "<div>\n",
       "<style scoped>\n",
       "    .dataframe tbody tr th:only-of-type {\n",
       "        vertical-align: middle;\n",
       "    }\n",
       "\n",
       "    .dataframe tbody tr th {\n",
       "        vertical-align: top;\n",
       "    }\n",
       "\n",
       "    .dataframe thead th {\n",
       "        text-align: right;\n",
       "    }\n",
       "</style>\n",
       "<table border=\"1\" class=\"dataframe\">\n",
       "  <thead>\n",
       "    <tr style=\"text-align: right;\">\n",
       "      <th></th>\n",
       "      <th>channelGrouping</th>\n",
       "      <th>sessionId</th>\n",
       "      <th>visitId</th>\n",
       "      <th>visitNumber</th>\n",
       "      <th>visitStartTime</th>\n",
       "      <th>device.browser</th>\n",
       "      <th>device.deviceCategory</th>\n",
       "      <th>device.isMobile</th>\n",
       "      <th>device.operatingSystem</th>\n",
       "      <th>geoNetwork.city</th>\n",
       "      <th>...</th>\n",
       "      <th>trafficSource.campaign</th>\n",
       "      <th>trafficSource.isTrueDirect</th>\n",
       "      <th>trafficSource.keyword</th>\n",
       "      <th>trafficSource.medium</th>\n",
       "      <th>trafficSource.referralPath</th>\n",
       "      <th>trafficSource.source</th>\n",
       "      <th>day_of_week</th>\n",
       "      <th>hour</th>\n",
       "      <th>day_of_month</th>\n",
       "      <th>month</th>\n",
       "    </tr>\n",
       "  </thead>\n",
       "  <tbody>\n",
       "    <tr>\n",
       "      <th>0</th>\n",
       "      <td>0</td>\n",
       "      <td>0</td>\n",
       "      <td>1508151024</td>\n",
       "      <td>2.0</td>\n",
       "      <td>1.508151e+09</td>\n",
       "      <td>0</td>\n",
       "      <td>0</td>\n",
       "      <td>False</td>\n",
       "      <td>0</td>\n",
       "      <td>0</td>\n",
       "      <td>...</td>\n",
       "      <td>0</td>\n",
       "      <td>0</td>\n",
       "      <td>0</td>\n",
       "      <td>0</td>\n",
       "      <td>0</td>\n",
       "      <td>0</td>\n",
       "      <td>0</td>\n",
       "      <td>10</td>\n",
       "      <td>16</td>\n",
       "      <td>10</td>\n",
       "    </tr>\n",
       "    <tr>\n",
       "      <th>1</th>\n",
       "      <td>0</td>\n",
       "      <td>1</td>\n",
       "      <td>1508175522</td>\n",
       "      <td>1.0</td>\n",
       "      <td>1.508176e+09</td>\n",
       "      <td>0</td>\n",
       "      <td>0</td>\n",
       "      <td>False</td>\n",
       "      <td>1</td>\n",
       "      <td>1</td>\n",
       "      <td>...</td>\n",
       "      <td>0</td>\n",
       "      <td>1</td>\n",
       "      <td>0</td>\n",
       "      <td>0</td>\n",
       "      <td>0</td>\n",
       "      <td>0</td>\n",
       "      <td>0</td>\n",
       "      <td>17</td>\n",
       "      <td>16</td>\n",
       "      <td>10</td>\n",
       "    </tr>\n",
       "    <tr>\n",
       "      <th>2</th>\n",
       "      <td>0</td>\n",
       "      <td>2</td>\n",
       "      <td>1508143220</td>\n",
       "      <td>1.0</td>\n",
       "      <td>1.508143e+09</td>\n",
       "      <td>0</td>\n",
       "      <td>0</td>\n",
       "      <td>False</td>\n",
       "      <td>0</td>\n",
       "      <td>2</td>\n",
       "      <td>...</td>\n",
       "      <td>0</td>\n",
       "      <td>1</td>\n",
       "      <td>0</td>\n",
       "      <td>0</td>\n",
       "      <td>0</td>\n",
       "      <td>0</td>\n",
       "      <td>0</td>\n",
       "      <td>8</td>\n",
       "      <td>16</td>\n",
       "      <td>10</td>\n",
       "    </tr>\n",
       "    <tr>\n",
       "      <th>3</th>\n",
       "      <td>0</td>\n",
       "      <td>3</td>\n",
       "      <td>1508193530</td>\n",
       "      <td>1.0</td>\n",
       "      <td>1.508194e+09</td>\n",
       "      <td>1</td>\n",
       "      <td>1</td>\n",
       "      <td>True</td>\n",
       "      <td>2</td>\n",
       "      <td>3</td>\n",
       "      <td>...</td>\n",
       "      <td>0</td>\n",
       "      <td>1</td>\n",
       "      <td>0</td>\n",
       "      <td>0</td>\n",
       "      <td>0</td>\n",
       "      <td>0</td>\n",
       "      <td>0</td>\n",
       "      <td>22</td>\n",
       "      <td>16</td>\n",
       "      <td>10</td>\n",
       "    </tr>\n",
       "    <tr>\n",
       "      <th>4</th>\n",
       "      <td>0</td>\n",
       "      <td>4</td>\n",
       "      <td>1508217442</td>\n",
       "      <td>1.0</td>\n",
       "      <td>1.508217e+09</td>\n",
       "      <td>1</td>\n",
       "      <td>0</td>\n",
       "      <td>False</td>\n",
       "      <td>0</td>\n",
       "      <td>4</td>\n",
       "      <td>...</td>\n",
       "      <td>0</td>\n",
       "      <td>1</td>\n",
       "      <td>0</td>\n",
       "      <td>0</td>\n",
       "      <td>0</td>\n",
       "      <td>0</td>\n",
       "      <td>1</td>\n",
       "      <td>5</td>\n",
       "      <td>17</td>\n",
       "      <td>10</td>\n",
       "    </tr>\n",
       "  </tbody>\n",
       "</table>\n",
       "<p>5 rows × 36 columns</p>\n",
       "</div>"
      ],
      "text/plain": [
       "   channelGrouping  sessionId     visitId  visitNumber  visitStartTime  \\\n",
       "0                0          0  1508151024          2.0    1.508151e+09   \n",
       "1                0          1  1508175522          1.0    1.508176e+09   \n",
       "2                0          2  1508143220          1.0    1.508143e+09   \n",
       "3                0          3  1508193530          1.0    1.508194e+09   \n",
       "4                0          4  1508217442          1.0    1.508217e+09   \n",
       "\n",
       "   device.browser  device.deviceCategory  device.isMobile  \\\n",
       "0               0                      0            False   \n",
       "1               0                      0            False   \n",
       "2               0                      0            False   \n",
       "3               1                      1             True   \n",
       "4               1                      0            False   \n",
       "\n",
       "   device.operatingSystem  geoNetwork.city  ...    trafficSource.campaign  \\\n",
       "0                       0                0  ...                         0   \n",
       "1                       1                1  ...                         0   \n",
       "2                       0                2  ...                         0   \n",
       "3                       2                3  ...                         0   \n",
       "4                       0                4  ...                         0   \n",
       "\n",
       "   trafficSource.isTrueDirect  trafficSource.keyword  trafficSource.medium  \\\n",
       "0                           0                      0                     0   \n",
       "1                           1                      0                     0   \n",
       "2                           1                      0                     0   \n",
       "3                           1                      0                     0   \n",
       "4                           1                      0                     0   \n",
       "\n",
       "   trafficSource.referralPath  trafficSource.source  day_of_week  hour  \\\n",
       "0                           0                     0            0    10   \n",
       "1                           0                     0            0    17   \n",
       "2                           0                     0            0     8   \n",
       "3                           0                     0            0    22   \n",
       "4                           0                     0            1     5   \n",
       "\n",
       "   day_of_month  month  \n",
       "0            16     10  \n",
       "1            16     10  \n",
       "2            16     10  \n",
       "3            16     10  \n",
       "4            17     10  \n",
       "\n",
       "[5 rows x 36 columns]"
      ]
     },
     "execution_count": 166,
     "metadata": {},
     "output_type": "execute_result"
    }
   ],
   "source": [
    "X_test.head()"
   ]
  },
  {
   "cell_type": "code",
   "execution_count": 168,
   "metadata": {},
   "outputs": [
    {
     "name": "stdout",
     "output_type": "stream",
     "text": [
      "Train shape:(768105, 36)\n",
      "Validation shape:(135548, 36)\n",
      "Test (submit) shape:(804684, 36)\n"
     ]
    }
   ],
   "source": [
    "X_train, X_val, y_train, y_val = train_test_split(x_train_full, y_train_full, test_size=0.15, random_state=1)\n",
    "print(\"Train shape:\" + str(X_train.shape))\n",
    "print(\"Validation shape:\" + str(X_val.shape))\n",
    "print(\"Test (submit) shape:\" + str(X_test.shape))"
   ]
  },
  {
   "cell_type": "markdown",
   "metadata": {},
   "source": [
    "create rmse (root mean squared error) function"
   ]
  },
  {
   "cell_type": "code",
   "execution_count": 169,
   "metadata": {},
   "outputs": [],
   "source": [
    "def rmse(y_true, y_pred):\n",
    "    return round(np.sqrt(mean_squared_error(y_true, y_pred)), 5)"
   ]
  },
  {
   "cell_type": "markdown",
   "metadata": {},
   "source": [
    "create xgboost function"
   ]
  },
  {
   "cell_type": "code",
   "execution_count": 170,
   "metadata": {},
   "outputs": [],
   "source": [
    "def run_xgb(X_train, y_train, X_val, y_val, X_test):\n",
    "    params = {'objective': 'reg:linear',\n",
    "              'eval_metric': 'rmse',\n",
    "              'eta': 0.001,\n",
    "              'max_depth': 10,\n",
    "              'subsample': 0.6,\n",
    "              'colsample_bytree': 0.6,\n",
    "              'alpha':0.001,\n",
    "              'random_state': 42,\n",
    "              'silent': True}\n",
    "\n",
    "    xgb_train_data = xgb.DMatrix(X_train, y_train)\n",
    "    xgb_val_data = xgb.DMatrix(X_val, y_val)\n",
    "    xgb_submit_data = xgb.DMatrix(X_test)\n",
    "\n",
    "    model = xgb.train(params, xgb_train_data, \n",
    "                      num_boost_round=2000, \n",
    "                      evals= [(xgb_train_data, 'train'), (xgb_val_data, 'valid')],\n",
    "                      early_stopping_rounds=100, \n",
    "                      verbose_eval=500\n",
    "                     )\n",
    "\n",
    "    y_pred_train = model.predict(xgb_train_data, ntree_limit=model.best_ntree_limit)\n",
    "    y_pred_val = model.predict(xgb_val_data, ntree_limit=model.best_ntree_limit)\n",
    "    y_pred_submit = model.predict(xgb_submit_data, ntree_limit=model.best_ntree_limit)\n",
    "\n",
    "    print(\"XGB : RMSE val: %f  - RMSE train: %f\" % (rmse(y_val, y_pred_val),\n",
    "                                                     rmse(y_train, y_pred_train)))\n",
    "    return y_pred_submit, model"
   ]
  },
  {
   "cell_type": "code",
   "execution_count": 171,
   "metadata": {},
   "outputs": [
    {
     "name": "stdout",
     "output_type": "stream",
     "text": [
      "[0]\ttrain-rmse:5.43423e+07\tvalid-rmse:4.30128e+07\n",
      "Multiple eval metrics have been passed: 'valid-rmse' will be used for early stopping.\n",
      "\n",
      "Will train until valid-rmse hasn't improved in 100 rounds.\n",
      "[500]\ttrain-rmse:4.81833e+07\tvalid-rmse:4.13877e+07\n",
      "[1000]\ttrain-rmse:4.30832e+07\tvalid-rmse:4.02498e+07\n",
      "[1500]\ttrain-rmse:3.8748e+07\tvalid-rmse:3.96508e+07\n",
      "[1999]\ttrain-rmse:3.51951e+07\tvalid-rmse:3.93013e+07\n",
      "XGB : RMSE val: 39300386.701560  - RMSE train: 35210090.520490\n",
      "CPU times: user 2h 15min 35s, sys: 37.7 s, total: 2h 16min 13s\n",
      "Wall time: 3h 38min 47s\n"
     ]
    }
   ],
   "source": [
    "%%time\n",
    "xgb_preds, xgb_model = run_xgb(X_train, y_train, X_val, y_val, X_test)"
   ]
  },
  {
   "cell_type": "code",
   "execution_count": 174,
   "metadata": {},
   "outputs": [
    {
     "data": {
      "text/plain": [
       "<xgboost.core.Booster at 0x1c2ac13c8>"
      ]
     },
     "execution_count": 174,
     "metadata": {},
     "output_type": "execute_result"
    }
   ],
   "source": [
    "xgb_model"
   ]
  },
  {
   "cell_type": "markdown",
   "metadata": {},
   "source": [
    "creating submission file..."
   ]
  },
  {
   "cell_type": "code",
   "execution_count": null,
   "metadata": {},
   "outputs": [],
   "source": [
    "final_ungrouped_df = pd.DataFrame({\"fullVisitorId\":id_test, \"PredictedLogRevenue\":xgb_preds})\n",
    "final_ungrouped_df.head()\n",
    "#sub.to_csv(\"xgb.csv\", index = False)"
   ]
  },
  {
   "cell_type": "code",
   "execution_count": null,
   "metadata": {
    "collapsed": true
   },
   "outputs": [],
   "source": [
    "\n",
    "sub = pd.DataFrame()\n",
    "sub[\"id\"] = id_test\n",
    "sub[\"target\"] = p_test\n",
    "sub.to_csv(\"../submissions/xgb.csv\", index = False)"
   ]
  }
 ],
 "metadata": {
  "kernelspec": {
   "display_name": "Python 3",
   "language": "python",
   "name": "python3"
  },
  "language_info": {
   "codemirror_mode": {
    "name": "ipython",
    "version": 3
   },
   "file_extension": ".py",
   "mimetype": "text/x-python",
   "name": "python",
   "nbconvert_exporter": "python",
   "pygments_lexer": "ipython3",
   "version": "3.7.0"
  }
 },
 "nbformat": 4,
 "nbformat_minor": 2
}
